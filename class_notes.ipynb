import this
from codecs import encode
encoded_messege = encode("hidden message", "rot13")
print(encoded_messege)
